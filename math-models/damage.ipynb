{
 "cells": [
  {
   "cell_type": "code",
   "execution_count": null,
   "id": "executed-arizona",
   "metadata": {},
   "outputs": [],
   "source": []
  },
  {
   "cell_type": "code",
   "execution_count": 1,
   "id": "hungarian-bennett",
   "metadata": {},
   "outputs": [],
   "source": [
    "sergeantsData = {\n",
    "    \"name\":\"sergeants\",\n",
    "    \"minDmg\":5,\n",
    "    \"maxDmg\":9,\n",
    "    \"attack\":5,\n",
    "    \"defence\":8,\n",
    "    \"health\":15\n",
    "}\n",
    "turkopolsData = {\n",
    "    \"name\":\"turkopols\",\n",
    "    \"minDmg\":7,\n",
    "    \"maxDmg\":11,\n",
    "    \"attack\":4,\n",
    "    \"defence\":7,\n",
    "    \"health\":12\n",
    "}\n",
    "knightsData = {\n",
    "    \"name\":\"knights\",\n",
    "    \"minDmg\":9,\n",
    "    \"maxDmg\":13,\n",
    "    \"attack\":7,\n",
    "    \"defence\":12,\n",
    "    \"health\":20\n",
    "}"
   ]
  },
  {
   "cell_type": "code",
   "execution_count": 2,
   "id": "brief-timothy",
   "metadata": {
    "scrolled": false
   },
   "outputs": [],
   "source": [
    "banditWarrior = {\n",
    "    \"name\":\"bandit\",\n",
    "    \"minDmg\":3,\n",
    "    \"maxDmg\":5,\n",
    "    \"attack\":3,\n",
    "    \"defence\":5,\n",
    "    \"health\":10\n",
    "}\n",
    "banditArcher = {\n",
    "    \"name\":\"banditArcher\",\n",
    "    \"minDmg\":3,\n",
    "    \"maxDmg\":5,\n",
    "    \"attack\":3,\n",
    "    \"defence\":3,\n",
    "    \"health\":8\n",
    "}\n",
    "mercSpearman = {\n",
    "    \"name\":\"mercenarySpearman\",\n",
    "    \"minDmg\":4,\n",
    "    \"maxDmg\":7,\n",
    "    \"attack\":5,\n",
    "    \"defence\":8,\n",
    "    \"health\":10\n",
    "}\n",
    "mercSwordman = {\n",
    "    \"name\":\"mercenartSwordman\",\n",
    "    \"minDmg\":5,\n",
    "    \"maxDmg\":8,\n",
    "    \"attack\":6,\n",
    "    \"defence\":10,\n",
    "    \"health\":15\n",
    "}"
   ]
  },
  {
   "cell_type": "code",
   "execution_count": 3,
   "id": "sunrise-beginning",
   "metadata": {},
   "outputs": [],
   "source": [
    "hero = {\n",
    "    \"sergeantsCount\": 10,\n",
    "    \"attack\": 2,\n",
    "    \"defence\": 2,\n",
    "    \"scout\": 0,\n",
    "}"
   ]
  },
  {
   "cell_type": "code",
   "execution_count": 4,
   "id": "overall-reader",
   "metadata": {
    "scrolled": true
   },
   "outputs": [],
   "source": [
    "enemy = {\n",
    "    \"banditCount\": 1,\n",
    "}"
   ]
  },
  {
   "cell_type": "code",
   "execution_count": 5,
   "id": "national-inquiry",
   "metadata": {},
   "outputs": [
    {
     "name": "stdout",
     "output_type": "stream",
     "text": [
      "800.0\n"
     ]
    }
   ],
   "source": [
    "import random\n",
    "dmg = random.randint(sergeantsData[\"minDmg\"],sergeantsData[\"maxDmg\"])\n",
    "dmg = dmg*hero[\"sergeantsCount\"]\n",
    "totalAttack  = hero[\"sergeantsCount\"]*sergeantsData[\"attack\"]\n",
    "totalDefence = enemy[\"banditCount\"]*banditWarrior[\"defence\"]\n",
    "dmg = dmg*totalAttack/totalDefence\n",
    "print(dmg)"
   ]
  },
  {
   "cell_type": "code",
   "execution_count": null,
   "id": "automotive-tuesday",
   "metadata": {},
   "outputs": [],
   "source": []
  },
  {
   "cell_type": "code",
   "execution_count": null,
   "id": "antique-diana",
   "metadata": {},
   "outputs": [],
   "source": []
  }
 ],
 "metadata": {
  "kernelspec": {
   "display_name": "Python 3",
   "language": "python",
   "name": "python3"
  },
  "language_info": {
   "codemirror_mode": {
    "name": "ipython",
    "version": 3
   },
   "file_extension": ".py",
   "mimetype": "text/x-python",
   "name": "python",
   "nbconvert_exporter": "python",
   "pygments_lexer": "ipython3",
   "version": "3.7.9"
  }
 },
 "nbformat": 4,
 "nbformat_minor": 5
}
